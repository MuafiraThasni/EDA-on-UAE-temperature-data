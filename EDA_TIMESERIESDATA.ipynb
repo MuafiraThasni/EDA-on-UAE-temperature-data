{
 "cells": [
  {
   "cell_type": "markdown",
   "id": "d7360c44",
   "metadata": {},
   "source": [
    "This notebook is created for doing exploratory data analysis on the UAE climate data. The data used is the open data available in the climate change knowledge portal. Percipitation and mean temperature data are analysed for the years 1901 to 2020, 120 years.\n",
    "\n"
   ]
  },
  {
   "cell_type": "code",
   "execution_count": null,
   "id": "96ff855f",
   "metadata": {},
   "outputs": [],
   "source": [
    "import pandas as pd\n",
    "import numpy as np\n",
    "import matplotlib.pyplot as pp\n",
    "import matplotlib.axes as ax\n"
   ]
  },
  {
   "cell_type": "markdown",
   "id": "9aa82e58",
   "metadata": {},
   "source": [
    "## Uploading the Data Files"
   ]
  },
  {
   "cell_type": "code",
   "execution_count": null,
   "id": "65022b6f",
   "metadata": {},
   "outputs": [],
   "source": [
    "perc = pd.read_csv('pr_UAE.csv')\n",
    "perc.describe().columns"
   ]
  },
  {
   "cell_type": "code",
   "execution_count": null,
   "id": "0eb36221",
   "metadata": {},
   "outputs": [],
   "source": [
    "temp = pd.read_csv('temp_UAE.csv')\n",
    "temp.describe().columns"
   ]
  },
  {
   "cell_type": "markdown",
   "id": "32a36a32",
   "metadata": {},
   "source": [
    "## Filling the Missing Values"
   ]
  },
  {
   "cell_type": "code",
   "execution_count": null,
   "id": "c6befd43",
   "metadata": {},
   "outputs": [],
   "source": [
    "temp.info()"
   ]
  },
  {
   "cell_type": "code",
   "execution_count": null,
   "id": "06f124ce",
   "metadata": {},
   "outputs": [],
   "source": [
    "perc.info()"
   ]
  },
  {
   "cell_type": "markdown",
   "id": "f928c27e",
   "metadata": {},
   "source": [
    "No missing data found in the both files. "
   ]
  },
  {
   "cell_type": "code",
   "execution_count": null,
   "id": "3477b44c",
   "metadata": {},
   "outputs": [],
   "source": [
    "#pp.figure(figsize = (10,50))\n",
    "pp.matshow(temp, extent = [0,8,1901,2020],fignum = 1)\n",
    "pp.colorbar()"
   ]
  },
  {
   "cell_type": "markdown",
   "id": "48d7f6f1",
   "metadata": {},
   "source": [
    "## Temperature"
   ]
  },
  {
   "cell_type": "markdown",
   "id": "88d35a6b",
   "metadata": {},
   "source": [
    "\n"
   ]
  },
  {
   "cell_type": "code",
   "execution_count": null,
   "id": "2d52d3ad",
   "metadata": {},
   "outputs": [],
   "source": [
    "import seaborn as sns"
   ]
  },
  {
   "cell_type": "code",
   "execution_count": null,
   "id": "9508fe01",
   "metadata": {},
   "outputs": [],
   "source": [
    "y = temp[\"United Arab Emirates\"]\n",
    "x = temp[\"Year\"]\n",
    "e,f = np.polyfit(x, y, 1)\n",
    "\n",
    "pp.scatter(x,y,2)\n",
    "pp.plot(x,e*x+f) \n",
    "pp.xlabel(\"Year\")\n",
    "pp.ylabel(\"Mean Temperature(C)\")\n",
    "pp.title(\"Annual Recorded Temperatures\")"
   ]
  },
  {
   "cell_type": "code",
   "execution_count": null,
   "id": "27dfe835",
   "metadata": {},
   "outputs": [],
   "source": []
  },
  {
   "cell_type": "code",
   "execution_count": null,
   "id": "7f852872",
   "metadata": {},
   "outputs": [],
   "source": [
    "from statistics import mean\n",
    "from matplotlib import style\n",
    "style.use('ggplot')\n",
    "xs = x\n",
    "ys = y\n",
    "def best_fit_slope_and_intercept(xs,ys):\n",
    "    m = (((mean(xs)*mean(ys)) - mean(xs*ys)) /\n",
    "         ((mean(xs)*mean(xs)) - mean(xs*xs)))\n",
    "    b = mean(ys) - m*mean(xs)\n",
    "    return m, b\n",
    "\n",
    "def squared_error(ys_orig,ys_line):\n",
    "    return sum((ys_line - ys_orig) * (ys_line - ys_orig))\n",
    "\n",
    "def coefficient_of_determination(ys_orig,ys_line):\n",
    "    y_mean_line = [mean(ys_orig) for y in ys_orig]\n",
    "    squared_error_regr = squared_error(ys_orig, ys_line)\n",
    "    squared_error_y_mean = squared_error(ys_orig, y_mean_line)\n",
    "    return 1 - (squared_error_regr/squared_error_y_mean)\n",
    "    \n",
    "m, b = best_fit_slope_and_intercept(xs,ys)\n",
    "regression_line = [(m*x)+b for x in xs]\n",
    "\n",
    "r_squared = coefficient_of_determination(ys,regression_line)\n",
    "print(r_squared)\n"
   ]
  },
  {
   "cell_type": "code",
   "execution_count": null,
   "id": "846f9b31",
   "metadata": {},
   "outputs": [],
   "source": [
    "import scipy\n",
    "from scipy import stats\n",
    "slope, intercept, r_value, p_value, std_err = scipy.stats.linregress(x, y)\n",
    "print(r_value**2)"
   ]
  },
  {
   "cell_type": "markdown",
   "id": "f436b5b6",
   "metadata": {},
   "source": [
    "Hey...!!!  just studying the different approaches!!  to get the R^2 value for the regression, best fit line for the scatter plot. \n",
    "\n",
    "Next step is to do a comparison of temperature with different climatology, to analyse the variation in temperature according to the seasons. So monthly data is considered.hb"
   ]
  },
  {
   "cell_type": "code",
   "execution_count": null,
   "id": "03c26c5d",
   "metadata": {},
   "outputs": [],
   "source": [
    "temp1 = pd.read_csv('temp_1991-2020.csv')\n",
    "temp1.describe()"
   ]
  },
  {
   "cell_type": "code",
   "execution_count": null,
   "id": "7f1417ff",
   "metadata": {},
   "outputs": [],
   "source": [
    "temp2 = pd.read_csv('temp_1961-1990.csv')\n",
    "temp3 = pd.read_csv('temp_1931-1960.csv')\n",
    "temp4 = pd.read_csv('temp_1901-1930.csv')"
   ]
  },
  {
   "cell_type": "code",
   "execution_count": null,
   "id": "67fa6288",
   "metadata": {},
   "outputs": [],
   "source": [
    "transtemp2=temp2.T\n",
    "transtemp2.head()\n",
    "transtemp2[0]"
   ]
  },
  {
   "cell_type": "code",
   "execution_count": null,
   "id": "3ed86718",
   "metadata": {},
   "outputs": [],
   "source": [
    "temp1.head()\n"
   ]
  },
  {
   "cell_type": "code",
   "execution_count": null,
   "id": "e138032c",
   "metadata": {},
   "outputs": [],
   "source": [
    "temp1.loc[0]"
   ]
  },
  {
   "cell_type": "code",
   "execution_count": null,
   "id": "9b9f71a9",
   "metadata": {},
   "outputs": [],
   "source": [
    "temp1[0:1]\n"
   ]
  },
  {
   "cell_type": "code",
   "execution_count": null,
   "id": "f2802d41",
   "metadata": {},
   "outputs": [],
   "source": []
  },
  {
   "cell_type": "code",
   "execution_count": null,
   "id": "dabdc910",
   "metadata": {},
   "outputs": [],
   "source": [
    "A1 = [18.95,20.17,23.04,27.48,31.72,33.54,34.68,34.4,32.62,29.26,24.66,21.02]\n",
    "\n",
    "B = [\"Jan\", \"Feb\", \"Mar\", \"Apr\",\"May\",\"Jun\",\"Jul\",\"Aug\",\"Sep\",\"Oct\",\"Nov\",\"Dec\"]\n",
    "pp.plot(B,A1)\n"
   ]
  },
  {
   "cell_type": "code",
   "execution_count": null,
   "id": "9f9340cc",
   "metadata": {},
   "outputs": [],
   "source": [
    "temp2[0:1]"
   ]
  },
  {
   "cell_type": "code",
   "execution_count": null,
   "id": "b4be5465",
   "metadata": {},
   "outputs": [],
   "source": [
    "A2 = [18.39,19.44,22.63,26.57,30.76,32.58,33.89,33.6,31.8,28.4,24.09,20.3]\n"
   ]
  },
  {
   "cell_type": "code",
   "execution_count": null,
   "id": "7fbb5d9b",
   "metadata": {},
   "outputs": [],
   "source": [
    "temp3[0:1]"
   ]
  },
  {
   "cell_type": "code",
   "execution_count": null,
   "id": "5ade045f",
   "metadata": {},
   "outputs": [],
   "source": [
    "A3=[18.47,19.41,22.32,26.36,30.43,32.25,33.52,33.51,31.68,27.99,24.11,20.4]"
   ]
  },
  {
   "cell_type": "code",
   "execution_count": null,
   "id": "4e2ce2d5",
   "metadata": {},
   "outputs": [],
   "source": [
    "temp4[0:1]"
   ]
  },
  {
   "cell_type": "code",
   "execution_count": null,
   "id": "6beeabce",
   "metadata": {},
   "outputs": [],
   "source": [
    "A4 = [18.23,18.82,22.16,26.3,30.19,31.94,33.26,33.1,31.39,28.06,24.0,20.01]"
   ]
  },
  {
   "cell_type": "code",
   "execution_count": null,
   "id": "a629d49e",
   "metadata": {},
   "outputs": [],
   "source": []
  },
  {
   "cell_type": "code",
   "execution_count": null,
   "id": "2e311231",
   "metadata": {},
   "outputs": [],
   "source": [
    "pp.plot(B,A1,label=\"1991-2020\")\n",
    "pp.plot(B,A2,label=\"1961-1990\")\n",
    "pp.plot(B,A3,label=\"1931-1960\")\n",
    "pp.plot(B,A4,label=\"1901-1930\")\n",
    "pp.legend()\n",
    "pp.xlabel(\"Months\")\n",
    "pp.ylabel(\"Mean Temperature\")\n",
    "pp.title(\"UAE Temperature Comparison Over Years\")\n",
    "pp.show()"
   ]
  },
  {
   "cell_type": "markdown",
   "id": "c48fd7fc",
   "metadata": {},
   "source": [
    "**Analysis of temperature in different emirates**"
   ]
  },
  {
   "cell_type": "code",
   "execution_count": null,
   "id": "2fc0bfcc",
   "metadata": {},
   "outputs": [],
   "source": []
  },
  {
   "cell_type": "code",
   "execution_count": null,
   "id": "31355f39",
   "metadata": {},
   "outputs": [],
   "source": [
    "mt1=temp1.drop(columns=\"Emirate\")\n",
    "#data = data.drop(columns=\"area\")\n",
    "mt1"
   ]
  },
  {
   "cell_type": "code",
   "execution_count": null,
   "id": "f35ccdb1",
   "metadata": {},
   "outputs": [],
   "source": [
    "mt1[1:2]"
   ]
  },
  {
   "cell_type": "code",
   "execution_count": null,
   "id": "a11d279e",
   "metadata": {},
   "outputs": [],
   "source": [
    "temp"
   ]
  },
  {
   "cell_type": "code",
   "execution_count": null,
   "id": "53186311",
   "metadata": {},
   "outputs": [],
   "source": [
    "year = temp[[\"Year\"]].values\n",
    "Abudhabi = temp[[\"Abu Dhabi\"]].values\n",
    "Dubai = temp[[\"Dubai\"]].values\n",
    "RAK = temp[[\"Ras Al Khaimah\"]].values\n",
    "Sharjah = temp[[\"Sharjah\"]].values\n",
    "UAQ = temp[[\"Umm AL Quwain\"]].values\n",
    "Ajman = temp[[\"Ajman\"]].values\n",
    "Fujairah = temp[[\"Fujairah\"]].values"
   ]
  },
  {
   "cell_type": "code",
   "execution_count": null,
   "id": "53b27280",
   "metadata": {},
   "outputs": [],
   "source": [
    "pp.plot(year,Abudhabi,label=\"Abudhabi\")\n",
    "pp.plot(year,Dubai,label=\"Dubai\")\n",
    "pp.plot(year,RAK,label=\"RAK\")\n",
    "pp.plot(year,Sharjah,label=\"Sharjah\")\n",
    "pp.plot(year,UAQ,label=\"UAQ\")\n",
    "pp.plot(year,Ajman,label=\"Ajman\")\n",
    "pp.plot(year,Fujairah,label=\"Fujairah\")\n",
    "pp.legend(loc = 'upper left')\n",
    "pp.xlabel(\"Year\")\n",
    "pp.ylabel(\"Mean Temperature\")\n",
    "pp.title(\"UAE Temperature Comparison Over Emirates\")\n",
    "pp.show()\n"
   ]
  },
  {
   "cell_type": "code",
   "execution_count": null,
   "id": "f54881be",
   "metadata": {},
   "outputs": [],
   "source": []
  }
 ],
 "metadata": {
  "kernelspec": {
   "display_name": "Python 3",
   "language": "python",
   "name": "python3"
  },
  "language_info": {
   "codemirror_mode": {
    "name": "ipython",
    "version": 3
   },
   "file_extension": ".py",
   "mimetype": "text/x-python",
   "name": "python",
   "nbconvert_exporter": "python",
   "pygments_lexer": "ipython3",
   "version": "3.8.8"
  }
 },
 "nbformat": 4,
 "nbformat_minor": 5
}
